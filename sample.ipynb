{
 "cells": [
  {
   "cell_type": "code",
   "execution_count": null,
   "metadata": {},
   "outputs": [],
   "source": []
  },
  {
   "cell_type": "code",
   "execution_count": null,
   "metadata": {},
   "outputs": [],
   "source": [
    "def lenet(x):\n",
    "    \n",
    "    mu=0\n",
    "    sigma=0.1\n",
    "    from tensorflow.contrib.layers import flatten\n",
    "\n",
    "    weights1=tf.Variable(tf.truncated_normal(shape=(5,5,3,6),  mean = mu, stddev = sigma))\n",
    "    bias1=tf.Variable(tf.zeros(6))\n",
    "    weights2=tf.Variable(tf.truncated_normal(shape=(5,5,6,16)))\n",
    "    bias2=tf.Variable(tf.zeros(16))\n",
    "    wf1=tf.Variable(tf.truncated_normal(shape=(400,120)))\n",
    "    bf1=tf.Variable(tf.zeros(120))\n",
    "    wf2=tf.Variable(tf.truncated_normal(shape=(120,84)))\n",
    "    bf2=tf.Variable(tf.zeros(84))\n",
    "    wf3=tf.Variable(tf.truncated_normal(shape=(84,43)))\n",
    "    bf3=tf.Variable(tf.zeros(43))\n",
    "    \n",
    "\n",
    "\n",
    "    conv1=tf.nn.conv2d(x, weights1, strides=[1,1,1,1], padding='VALID')+bias1\n",
    "    \n",
    "    #activation\n",
    "    conv1=tf.nn.relu(conv1)\n",
    "    #pooling1\n",
    "    conv1=tf.nn.max_pool(conv1, ksize=[1,2,2,1], strides=[1,2,2,1], padding='VALID')\n",
    "    \n",
    "    conv2=tf.nn.conv2d(conv1, weights2, strides=[1,1,1,1], padding='VALID')+bias2\n",
    "    conv2=tf.nn.relu(conv2)\n",
    "    conv2=tf.nn.max_pool(conv2, ksize=[1,2,2,1], strides=[1,2,2,1], padding='VALID')\n",
    "    \n",
    "    f=flatten(conv2)\n",
    "    f1=tf.matmul(f,wf1)+bf1\n",
    "    f1=tf.nn.relu(f1)\n",
    "    f2=tf.matmul(f1,wf2)+bf2\n",
    "    f2=tf.nn.relu(f2)\n",
    "    logits=tf.matmul(f2,wf3)+bf3\n",
    "    \n",
    "    return logits"
   ]
  }
 ],
 "metadata": {
  "kernelspec": {
   "display_name": "Python 3",
   "language": "python",
   "name": "python3"
  },
  "language_info": {
   "codemirror_mode": {
    "name": "ipython",
    "version": 3
   },
   "file_extension": ".py",
   "mimetype": "text/x-python",
   "name": "python",
   "nbconvert_exporter": "python",
   "pygments_lexer": "ipython3",
   "version": "3.6.3"
  }
 },
 "nbformat": 4,
 "nbformat_minor": 2
}
